{
  "nbformat": 4,
  "nbformat_minor": 0,
  "metadata": {
    "colab": {
      "provenance": [],
      "collapsed_sections": [
        "MO8VqKIQ7nwP",
        "lfHjGseCkYxE",
        "mP_ZdipcszLy"
      ],
      "include_colab_link": true
    },
    "kernelspec": {
      "name": "python3",
      "display_name": "Python 3"
    },
    "language_info": {
      "name": "python"
    }
  },
  "cells": [
    {
      "cell_type": "markdown",
      "metadata": {
        "id": "view-in-github",
        "colab_type": "text"
      },
      "source": [
        "<a href=\"https://colab.research.google.com/github/saifulislamsarfaraz/Academic-Business-Model/blob/main/Mid_Lab_Question_CSE475.ipynb\" target=\"_parent\"><img src=\"https://colab.research.google.com/assets/colab-badge.svg\" alt=\"Open In Colab\"/></a>"
      ]
    },
    {
      "cell_type": "markdown",
      "source": [
        "# **Midterm Lab Question CSE475**"
      ],
      "metadata": {
        "id": "YMl5XtRpCaVQ"
      }
    },
    {
      "cell_type": "markdown",
      "source": [
        "# Section 1"
      ],
      "metadata": {
        "id": "qZL98SUM1D5x"
      }
    },
    {
      "cell_type": "markdown",
      "source": [
        "Instantiate an indexing object by using the Index() function from recordlinkage.\n",
        "\n",
        "Block your pairing on cuisine_type by using indexer's' .block() method.\n",
        "\n",
        "Generate pairs by indexing [restaurants](https://drive.google.com/file/d/1eHR7sQ6UJ-165wxbHURafLekziO8pzBU/view?usp=sharing) and [restaurants_new](https://drive.google.com/file/d/1oi4gCbaM95-PQYIOGPV2U_IMwaaUtYRW/view?usp=sharing) in that order.\n",
        "\n",
        "Hint: Cleaning Data Assignment"
      ],
      "metadata": {
        "id": "keZ2C6xk7GuH"
      }
    },
    {
      "cell_type": "code",
      "source": [],
      "metadata": {
        "id": "VBvshN1L4h7i"
      },
      "execution_count": null,
      "outputs": []
    },
    {
      "cell_type": "markdown",
      "source": [
        "Load the [audible_raw.csv](https://drive.google.com/file/d/1nU7pwDMSBG7KgIN_uJUhVRTSR4CBHdVh/view?usp=sharing) file and create a dataframe called audible\n",
        "\n",
        "Remove 'Writtenby:' from the author column\n",
        "\n",
        "Remove 'Narratedby:' from the narrator column\n",
        "\n",
        "Check the results"
      ],
      "metadata": {
        "id": "tEHswUG87NNL"
      }
    },
    {
      "cell_type": "code",
      "source": [],
      "metadata": {
        "id": "VXEXI9YH7NNM"
      },
      "execution_count": null,
      "outputs": []
    },
    {
      "cell_type": "markdown",
      "source": [
        "use .str.extract() to get the number of stars and the number of ratings into their own columns.\n",
        "\n",
        "Extract the number of stars into the rating_stars column\n",
        "Extract the number of ratings into the n_ratings column\n",
        "Convert both new columns to float\n",
        "What you have to do?\n",
        "\n",
        "Extract number of stars into rating_stars and turn into float\n",
        "\n",
        "Replace the comma, extract number of ratings into n_ratings and turn into float\n",
        "\n",
        "Examine the new rating_stars and n_ratings columns"
      ],
      "metadata": {
        "id": "5iBKNMDK5vBG"
      }
    },
    {
      "cell_type": "code",
      "source": [],
      "metadata": {
        "id": "r16Nr5VU5vBG"
      },
      "execution_count": null,
      "outputs": []
    },
    {
      "cell_type": "markdown",
      "source": [
        "# Section 2"
      ],
      "metadata": {
        "id": "MO8VqKIQ7nwP"
      }
    },
    {
      "cell_type": "markdown",
      "source": [
        "Train a regression tree to predict the mpg (miles per gallon) consumption of cars from the [auto-mpg dataset](https://www.kaggle.com/datasets/uciml/autompg-dataset) using all the six available features.\n",
        "\n",
        "check number of rows and columns in data\n",
        "\n",
        "check any missing values in the dataset\n",
        "\n",
        "check unique values for attribute horsepower\n",
        "\n",
        "split the dataset to 75% train and 25% test.\n",
        "\n",
        "Import DecisionTreeRegressor from sklearn.tree.\n",
        "\n",
        "Instantiate a DecisionTreeRegressor dt with maximum depth 8 and min_samples_leaf set to 0.13.\n",
        "\n",
        "Fit dt to the training set."
      ],
      "metadata": {
        "id": "XcflpVIIJRph"
      }
    },
    {
      "cell_type": "code",
      "source": [],
      "metadata": {
        "id": "Tf-dmRX27nwR"
      },
      "execution_count": null,
      "outputs": []
    },
    {
      "cell_type": "markdown",
      "source": [
        "Work with the [Indian Liver Patient Dataset](https://www.kaggle.com/datasets/jeevannagaraj/indian-liver-patient-dataset)\n",
        "\n",
        "Instantiate a Logistic Regression classifier and assign it to lr.\n",
        "\n",
        "Instantiate a KNN classifier that considers 27 nearest neighbors and assign it to knn.\n",
        "\n",
        "Instantiate a Decision Tree Classifier with the parameter min_samples_leaf set to 0.13 and assign it to dt.\n",
        "\n",
        "Define the list classifiers Logistic Regression, K Nearest Neighbours, Classification Tree.\n",
        "\n",
        "Split the dataset to 80% train and 20% test.\n",
        "\n",
        "Iterate over the pre-defined list of classifiers\n",
        "\n",
        "Fit the model\n",
        "\n",
        "Predict y_pred each classifiers   \n",
        "    \n",
        "Calculate accuracy of each classifiers\n",
        "     \n",
        "Evaluate the accuracy on the test set\n"
      ],
      "metadata": {
        "id": "PlMbjKcMphlf"
      }
    },
    {
      "cell_type": "code",
      "source": [],
      "metadata": {
        "id": "EW6nmDRBtW90"
      },
      "execution_count": null,
      "outputs": []
    },
    {
      "cell_type": "markdown",
      "source": [
        "Work with the [Bike Sharing Demand dataset](https://www.kaggle.com/c/bike-sharing-demand) available through Kaggle download dataset from [here](https://www.kaggle.com/datasets/lakshmi25npathi/bike-sharing-dataset).\n",
        "\n",
        "Import RandomForestRegressor from sklearn.ensemble.\n",
        "\n",
        "Instantiate a RandomForestRegressor called rf consisting of 25 trees.\n",
        "\n",
        "Fit rf to the training set"
      ],
      "metadata": {
        "id": "cUWt8HkEtZbU"
      }
    },
    {
      "cell_type": "markdown",
      "source": [
        "# Section 3"
      ],
      "metadata": {
        "id": "lfHjGseCkYxE"
      }
    },
    {
      "cell_type": "markdown",
      "source": [
        "Work with the [taiwan_real_estate](https://drive.google.com/file/d/1Rik6ZLorVTPnHb5ETlJ_lS5grhjz2SNe/view?usp=sharing) dataset.\n",
        "\n",
        "Import the ols() function from the statsmodels.formula.api package.\n",
        "\n",
        "Run a linear regression with price_twd_msq as the response variable, n_convenience as the explanatory variable, and taiwan_real_estate as the dataset. Name it mdl_price_vs_conv.\n",
        "\n",
        "Fit the model.\n",
        "\n",
        "Print the parameters of the fitted model.\n",
        "\n",
        "\n"
      ],
      "metadata": {
        "id": "lLQHaEDfykmy"
      }
    },
    {
      "cell_type": "code",
      "source": [],
      "metadata": {
        "id": "Wsb5kIqTHUkg"
      },
      "execution_count": null,
      "outputs": []
    },
    {
      "cell_type": "markdown",
      "source": [
        "Work with the [Customer churn](https://drive.google.com/file/d/1Ernmk97Gclk8FHgNn3XtD6Nt4FdaNhfB/view?usp=sharing) Dataset, Each row represents a customer over a year and whether the customer churned, and the target variable , 1 = yes or 0 = no.\n",
        "\n",
        "\n",
        "Check if there are any null values in the dataset, if yes fix it\n",
        "\n",
        "Create a logistic regression classifier from skitlearn\n",
        "\n",
        "Train the classifer on the train set\n",
        "\n",
        "Predict the outcomes on the test set\n",
        "\n",
        "Find out the confusion matrix\n",
        "\n",
        "Plot a labeled confusion matrix with Seaborn\n",
        "\n",
        "Show the Accuricy of the model\n",
        "\n"
      ],
      "metadata": {
        "id": "DseWj1dW20yQ"
      }
    }
  ]
}